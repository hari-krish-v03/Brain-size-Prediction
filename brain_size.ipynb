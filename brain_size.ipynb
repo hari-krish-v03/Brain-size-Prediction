{
  "nbformat": 4,
  "nbformat_minor": 0,
  "metadata": {
    "colab": {
      "name": "brain size.ipynb",
      "provenance": [],
      "authorship_tag": "ABX9TyM/k9GWQENyP8+9zQO3BbXD",
      "include_colab_link": true
    },
    "kernelspec": {
      "name": "python3",
      "display_name": "Python 3"
    },
    "language_info": {
      "name": "python"
    }
  },
  "cells": [
    {
      "cell_type": "markdown",
      "metadata": {
        "id": "view-in-github",
        "colab_type": "text"
      },
      "source": [
        "<a href=\"https://colab.research.google.com/github/hari-krish-v03/brain-size-prediction/blob/main/brain_size.ipynb\" target=\"_parent\"><img src=\"https://colab.research.google.com/assets/colab-badge.svg\" alt=\"Open In Colab\"/></a>"
      ]
    },
    {
      "cell_type": "code",
      "metadata": {
        "id": "ecIr_gPsLgzV"
      },
      "source": [
        "import numpy as np"
      ],
      "execution_count": 6,
      "outputs": []
    },
    {
      "cell_type": "code",
      "metadata": {
        "id": "JLq_jcf_Lqjv"
      },
      "source": [
        "import pandas as pd\n"
      ],
      "execution_count": 7,
      "outputs": []
    },
    {
      "cell_type": "code",
      "metadata": {
        "id": "A6wQae2dLt6h"
      },
      "source": [
        "data = pd.read_csv(\"headbrain.csv\")"
      ],
      "execution_count": 8,
      "outputs": []
    },
    {
      "cell_type": "code",
      "metadata": {
        "colab": {
          "base_uri": "https://localhost:8080/",
          "height": 203
        },
        "id": "Pq--K3ZsL5Mz",
        "outputId": "81908fa8-80b4-41a4-9b4b-db7478575275"
      },
      "source": [
        "data.head()"
      ],
      "execution_count": 9,
      "outputs": [
        {
          "output_type": "execute_result",
          "data": {
            "text/html": [
              "<div>\n",
              "<style scoped>\n",
              "    .dataframe tbody tr th:only-of-type {\n",
              "        vertical-align: middle;\n",
              "    }\n",
              "\n",
              "    .dataframe tbody tr th {\n",
              "        vertical-align: top;\n",
              "    }\n",
              "\n",
              "    .dataframe thead th {\n",
              "        text-align: right;\n",
              "    }\n",
              "</style>\n",
              "<table border=\"1\" class=\"dataframe\">\n",
              "  <thead>\n",
              "    <tr style=\"text-align: right;\">\n",
              "      <th></th>\n",
              "      <th>Gender</th>\n",
              "      <th>Age Range</th>\n",
              "      <th>Head Size(cm^3)</th>\n",
              "      <th>Brain Weight(grams)</th>\n",
              "    </tr>\n",
              "  </thead>\n",
              "  <tbody>\n",
              "    <tr>\n",
              "      <th>0</th>\n",
              "      <td>1</td>\n",
              "      <td>1</td>\n",
              "      <td>4512</td>\n",
              "      <td>1530</td>\n",
              "    </tr>\n",
              "    <tr>\n",
              "      <th>1</th>\n",
              "      <td>1</td>\n",
              "      <td>1</td>\n",
              "      <td>3738</td>\n",
              "      <td>1297</td>\n",
              "    </tr>\n",
              "    <tr>\n",
              "      <th>2</th>\n",
              "      <td>1</td>\n",
              "      <td>1</td>\n",
              "      <td>4261</td>\n",
              "      <td>1335</td>\n",
              "    </tr>\n",
              "    <tr>\n",
              "      <th>3</th>\n",
              "      <td>1</td>\n",
              "      <td>1</td>\n",
              "      <td>3777</td>\n",
              "      <td>1282</td>\n",
              "    </tr>\n",
              "    <tr>\n",
              "      <th>4</th>\n",
              "      <td>1</td>\n",
              "      <td>1</td>\n",
              "      <td>4177</td>\n",
              "      <td>1590</td>\n",
              "    </tr>\n",
              "  </tbody>\n",
              "</table>\n",
              "</div>"
            ],
            "text/plain": [
              "   Gender  Age Range  Head Size(cm^3)  Brain Weight(grams)\n",
              "0       1          1             4512                 1530\n",
              "1       1          1             3738                 1297\n",
              "2       1          1             4261                 1335\n",
              "3       1          1             3777                 1282\n",
              "4       1          1             4177                 1590"
            ]
          },
          "metadata": {},
          "execution_count": 9
        }
      ]
    },
    {
      "cell_type": "code",
      "metadata": {
        "id": "46m3YP5XL67W"
      },
      "source": [
        "x = np.array(data[\"Head Size(cm^3)\"])\n",
        "x = x.reshape(len(data),1)"
      ],
      "execution_count": 10,
      "outputs": []
    },
    {
      "cell_type": "code",
      "metadata": {
        "id": "BuCsjZYGMMon"
      },
      "source": [
        "y = np.array(data[\"Brain Weight(grams)\"])"
      ],
      "execution_count": 11,
      "outputs": []
    },
    {
      "cell_type": "code",
      "metadata": {
        "colab": {
          "base_uri": "https://localhost:8080/"
        },
        "id": "yV18OZ1sMnnX",
        "outputId": "73fcb632-5f08-4fd0-ca35-fc86e057fff5"
      },
      "source": [
        "np.shape(x)"
      ],
      "execution_count": 12,
      "outputs": [
        {
          "output_type": "execute_result",
          "data": {
            "text/plain": [
              "(237, 1)"
            ]
          },
          "metadata": {},
          "execution_count": 12
        }
      ]
    },
    {
      "cell_type": "code",
      "metadata": {
        "id": "oHMUkuNbMNda"
      },
      "source": [
        "from sklearn.model_selection import train_test_split\n",
        "xtrain,xtest,ytrain,ytest = train_test_split(x,y,train_size = 0.8,random_state = 10)"
      ],
      "execution_count": 13,
      "outputs": []
    },
    {
      "cell_type": "code",
      "metadata": {
        "id": "gqc2_23ENNjB"
      },
      "source": [
        "from sklearn.linear_model import LinearRegression\n",
        "model = LinearRegression()"
      ],
      "execution_count": 14,
      "outputs": []
    },
    {
      "cell_type": "code",
      "metadata": {
        "colab": {
          "base_uri": "https://localhost:8080/"
        },
        "id": "YbdKNCiuNeod",
        "outputId": "a4acca07-4e64-40f6-c2b7-81b91ac77b95"
      },
      "source": [
        "model.fit(xtrain,ytrain)"
      ],
      "execution_count": 15,
      "outputs": [
        {
          "output_type": "execute_result",
          "data": {
            "text/plain": [
              "LinearRegression(copy_X=True, fit_intercept=True, n_jobs=None, normalize=False)"
            ]
          },
          "metadata": {},
          "execution_count": 15
        }
      ]
    },
    {
      "cell_type": "code",
      "metadata": {
        "id": "QZKXtdACNmCr"
      },
      "source": [
        "ypred = model.predict(xtest)"
      ],
      "execution_count": 16,
      "outputs": []
    },
    {
      "cell_type": "code",
      "metadata": {
        "colab": {
          "base_uri": "https://localhost:8080/"
        },
        "id": "jKnzi8CeNtxV",
        "outputId": "baf96200-4a6b-4761-c908-63e5cc529b61"
      },
      "source": [
        "ypred"
      ],
      "execution_count": 17,
      "outputs": [
        {
          "output_type": "execute_result",
          "data": {
            "text/plain": [
              "array([1388.15569861, 1353.62477949, 1444.49561929, 1249.77239116,\n",
              "       1360.6348157 , 1146.17963379, 1162.01712301, 1270.28323785,\n",
              "       1305.07378794, 1201.74066155, 1297.54448979, 1136.57328787,\n",
              "       1222.77077019, 1490.45030112, 1103.3405236 , 1151.37225321,\n",
              "       1292.0922394 , 1292.87113231, 1340.64323095, 1116.32207214,\n",
              "       1490.45030112, 1238.08899747, 1344.01843357, 1164.61343272,\n",
              "       1377.51082881, 1159.68044427, 1477.72838355, 1572.75331888,\n",
              "       1243.28161688, 1221.47261533, 1488.8925153 , 1201.74066155,\n",
              "       1330.51762309, 1350.24957687, 1210.56811456, 1171.8830999 ,\n",
              "       1140.46775243, 1211.0873765 , 1392.05016318, 1290.79408455,\n",
              "       1160.19970622, 1192.91320854, 1347.13400522, 1266.12914232,\n",
              "       1271.06213076, 1224.58818698, 1268.985083  , 1046.48134099])"
            ]
          },
          "metadata": {},
          "execution_count": 17
        }
      ]
    },
    {
      "cell_type": "code",
      "metadata": {
        "colab": {
          "base_uri": "https://localhost:8080/"
        },
        "id": "jzz3BjBPNwC2",
        "outputId": "94be234e-7190-4c7b-a662-5de1c5b4cde8"
      },
      "source": [
        "ytest"
      ],
      "execution_count": 18,
      "outputs": [
        {
          "output_type": "execute_result",
          "data": {
            "text/plain": [
              "array([1490, 1334, 1485, 1240, 1252, 1080, 1215, 1300, 1300, 1192, 1355,\n",
              "       1150, 1173, 1620, 1060, 1165, 1270, 1222, 1373, 1130, 1510, 1225,\n",
              "       1415, 1200, 1296, 1170, 1415, 1635, 1270, 1243, 1400, 1175, 1207,\n",
              "       1310, 1170, 1180, 1180, 1204, 1306, 1320, 1100, 1246, 1357, 1306,\n",
              "       1300, 1220, 1245,  955])"
            ]
          },
          "metadata": {},
          "execution_count": 18
        }
      ]
    },
    {
      "cell_type": "code",
      "metadata": {
        "id": "kmiqpVbGNyw_"
      },
      "source": [
        "from sklearn.metrics import r2_score\n",
        "r2 = r2_score(ytest,ypred)"
      ],
      "execution_count": 19,
      "outputs": []
    },
    {
      "cell_type": "code",
      "metadata": {
        "colab": {
          "base_uri": "https://localhost:8080/"
        },
        "id": "ofkeM1HDOHtw",
        "outputId": "038aac92-92a6-4ec5-8409-44ee8d9859ca"
      },
      "source": [
        "r2\n"
      ],
      "execution_count": 20,
      "outputs": [
        {
          "output_type": "execute_result",
          "data": {
            "text/plain": [
              "0.8327458121021248"
            ]
          },
          "metadata": {},
          "execution_count": 20
        }
      ]
    },
    {
      "cell_type": "code",
      "metadata": {
        "id": "sFEWozmKOM7O"
      },
      "source": [
        " accuracy = []\n",
        " for i in range (501):\n",
        "   xtrain1,xtest1,ytrain1,ytest1 = train_test_split(x,y,train_size = 0.8,random_state = i)\n",
        "   model1 = LinearRegression()\n",
        "   model1.fit(xtrain1,ytrain1)\n",
        "   ypred1 = model.predict(xtest1)\n",
        "   r2_1 = r2_score(ytest1,ypred1)\n",
        "   accuracy.append(r2_1)\n",
        "\n",
        "\n",
        "\n"
      ],
      "execution_count": 21,
      "outputs": []
    },
    {
      "cell_type": "code",
      "metadata": {
        "colab": {
          "base_uri": "https://localhost:8080/"
        },
        "id": "Vw-yq5sUPKXn",
        "outputId": "6cb7ca37-f29a-431a-f321-708daf4878ee"
      },
      "source": [
        "np.argmax(accuracy)"
      ],
      "execution_count": 22,
      "outputs": [
        {
          "output_type": "execute_result",
          "data": {
            "text/plain": [
              "10"
            ]
          },
          "metadata": {},
          "execution_count": 22
        }
      ]
    },
    {
      "cell_type": "code",
      "metadata": {
        "colab": {
          "base_uri": "https://localhost:8080/"
        },
        "id": "odQEMQV9PMAp",
        "outputId": "91b8d7ba-7945-4952-fb84-5a258adb1aa9"
      },
      "source": [
        "accuracy[10]"
      ],
      "execution_count": 23,
      "outputs": [
        {
          "output_type": "execute_result",
          "data": {
            "text/plain": [
              "0.8327458121021248"
            ]
          },
          "metadata": {},
          "execution_count": 23
        }
      ]
    },
    {
      "cell_type": "code",
      "metadata": {
        "id": "GQNi06oxPY-R"
      },
      "source": [
        "import joblib"
      ],
      "execution_count": 24,
      "outputs": []
    },
    {
      "cell_type": "code",
      "metadata": {
        "colab": {
          "base_uri": "https://localhost:8080/"
        },
        "id": "50sGyp5JPg9y",
        "outputId": "57053e96-e133-4c20-e05e-d817f477090b"
      },
      "source": [
        "joblib.dump(model,\"brain_size_prediction.pkl\")"
      ],
      "execution_count": 25,
      "outputs": [
        {
          "output_type": "execute_result",
          "data": {
            "text/plain": [
              "['brain_size_prediction.pkl']"
            ]
          },
          "metadata": {},
          "execution_count": 25
        }
      ]
    },
    {
      "cell_type": "code",
      "metadata": {
        "id": "ndKwFF-4PoIV"
      },
      "source": [
        ""
      ],
      "execution_count": 25,
      "outputs": []
    }
  ]
}